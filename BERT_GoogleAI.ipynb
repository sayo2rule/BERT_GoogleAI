{
 "cells": [
  {
   "cell_type": "markdown",
   "id": "d1627170",
   "metadata": {},
   "source": [
    "## How the Google BERT Works\n",
    "\n",
    "BERT, from the acronym \"Bidirectional Encoder Representations from Transformers\", is a model released by Google AI. This innovative technique is based on natural language processing (NLP)."
   ]
  },
  {
   "cell_type": "raw",
   "id": "acc3e5fc",
   "metadata": {},
   "source": [
    "The algorithm essentially uses machine learning and artificial intelligence to understand the queries made by internet users. Thus, it tries to interpret their search intentions, i.e., the natural language they use."
   ]
  },
  {
   "cell_type": "raw",
   "id": "c1a64ffc",
   "metadata": {},
   "source": [
    "In this sense, BERT is associated with personal voice assistants such as Google Home. The tool is no longer based on each word entered by the user, but considers the entire expression and the context in which it is situated. This is done in order to refine the results. It is more efficient at handling complex searches, regardless of the medium used."
   ]
  },
  {
   "cell_type": "raw",
   "id": "0b5b960a",
   "metadata": {},
   "source": [
    "More concretely, BERT allows the search engine to :\n",
    "\n",
    "Resolve ambiguities in expressions, taking into account the contextual meaning of words;\n",
    "Understand what pronouns correspond to, especially in long paragraphs;\n",
    "Solve homonymy problems;\n",
    "Understand the following sentence;\n",
    "Give answers directly in the SERP (Search Engine Result Page)"
   ]
  },
  {
   "cell_type": "raw",
   "id": "5a326047",
   "metadata": {},
   "source": [
    "For other applications, BERT is used in :\n",
    "\n",
    "Question and answer;\n",
    "Opinion analysis;\n",
    "Sentence matching and natural language inference;\n",
    "Detection of offensive tweets."
   ]
  },
  {
   "cell_type": "raw",
   "id": "6686bc39",
   "metadata": {},
   "source": [
    "Thus, the impact of Google BERT would be about 10% on the longest queries, typed in a natural way.\n",
    "\n",
    "Natural language processing focuses on the analysis of words typed by the user. The keyword, its predecessors, and its successors are all examined to better understand the query. This is the principle of analysis adopted by \"transformers\".\n",
    "\n",
    "The algorithm is particularly effective for long-tail searches, where prepositions influence the meaning. On the other hand, its impact on generic queries is less important, since they are already well understood by Google. The other comprehension tools, therefore, remain functional."
   ]
  },
  {
   "cell_type": "raw",
   "id": "f25fd4e8",
   "metadata": {},
   "source": [
    "Whether the query is formulated in a disordered or precise way, the search engine is still able to process it. But for more efficiency, it is better to use more appropriate terms.\n",
    "\n",
    "Context plays an important role in the analysis performed by BERT. Machine translation and linguistic modeling are optimized. Significant improvements are also noted in the generation of quality texts."
   ]
  },
  {
   "cell_type": "markdown",
   "id": "3a2dace2",
   "metadata": {
    "heading_collapsed": true
   },
   "source": [
    "## Import Libraries and Packages\n",
    "\n",
    "To use this model, let’s first import the necessary libraries and packages, as shown here:\n"
   ]
  },
  {
   "cell_type": "code",
   "execution_count": 1,
   "id": "f2cae78c",
   "metadata": {
    "ExecuteTime": {
     "end_time": "2023-03-09T19:17:17.604724Z",
     "start_time": "2023-03-09T19:17:05.482074Z"
    },
    "hidden": true
   },
   "outputs": [],
   "source": [
    "!pip install -q -U \"tensorflow-text==2.8.*\""
   ]
  },
  {
   "cell_type": "code",
   "execution_count": 2,
   "id": "6004f83f",
   "metadata": {
    "ExecuteTime": {
     "end_time": "2023-03-09T19:17:41.420672Z",
     "start_time": "2023-03-09T19:17:21.734512Z"
    },
    "hidden": true
   },
   "outputs": [],
   "source": [
    "!pip install -q tf-models-official==2.7.0"
   ]
  },
  {
   "cell_type": "code",
   "execution_count": 3,
   "id": "69a03a48",
   "metadata": {
    "ExecuteTime": {
     "end_time": "2023-03-09T19:18:45.099994Z",
     "start_time": "2023-03-09T19:17:47.612411Z"
    },
    "hidden": true
   },
   "outputs": [
    {
     "name": "stderr",
     "output_type": "stream",
     "text": [
      "/Users/user/opt/anaconda3/lib/python3.9/site-packages/tensorflow_addons/utils/ensure_tf_install.py:53: UserWarning: Tensorflow Addons supports using Python ops for all Tensorflow versions above or equal to 2.9.0 and strictly below 2.12.0 (nightly versions are not supported). \n",
      " The versions of TensorFlow you are currently using is 2.8.4 and is not supported. \n",
      "Some things might work, some things might not.\n",
      "If you were to encounter a bug, do not file an issue.\n",
      "If you want to make sure you're using a tested and supported configuration, either change the TensorFlow version or the TensorFlow Addons's version. \n",
      "You can find the compatibility matrix in TensorFlow Addon's readme:\n",
      "https://github.com/tensorflow/addons\n",
      "  warnings.warn(\n"
     ]
    }
   ],
   "source": [
    "import os\n",
    "import shutil\n",
    "\n",
    "import tensorflow as tf\n",
    "import tensorflow_hub as hub\n",
    "import tensorflow_text as text\n",
    "\n",
    "from official.nlp import optimization # to create AdamW Optimizer\n",
    "import matplotlib.pyplot as plt\n",
    "\n",
    "tf.get_logger().setLevel('ERROR')"
   ]
  },
  {
   "cell_type": "markdown",
   "id": "41e4b806",
   "metadata": {
    "heading_collapsed": true
   },
   "source": [
    "## The Large Movie Review Dataset \n",
    "\n",
    "Download, Extract the Large Movie Review Dataset, then explore the directory's structure."
   ]
  },
  {
   "cell_type": "code",
   "execution_count": 4,
   "id": "5d0dc59b",
   "metadata": {
    "ExecuteTime": {
     "end_time": "2023-03-09T19:23:07.717780Z",
     "start_time": "2023-03-09T19:20:43.651460Z"
    },
    "hidden": true
   },
   "outputs": [],
   "source": [
    "url = 'https://ai.stanford.edu/~amaas/data/sentiment/aclImdb_v1.tar.gz'\n",
    "\n",
    "dataset = tf.keras.utils.get_file('aclImdb_v1.tar.gz', url, \n",
    "                                   untar=True, cache_dir='.', \n",
    "                                   cache_subdir='')\n",
    "\n",
    "dataset_dir = os.path.join(os.path.dirname(dataset), 'aclImdb')\n",
    "\n",
    "train_dir = os.path.join(dataset_dir, 'train')\n",
    "\n",
    "# remove unused folders to make it easier to load the data\n",
    "remove_dir = os.path.join(train_dir, 'unsup')\n",
    "shutil.rmtree(remove_dir)"
   ]
  },
  {
   "cell_type": "raw",
   "id": "d1eded83",
   "metadata": {
    "hidden": true
   },
   "source": [
    "The code block you provided downloads the IMDB movie reviews dataset using the URL 'https://ai.stanford.edu/~amaas/data/sentiment/aclImdb_v1.tar.gz' and stores it in the local cache directory. Then it extracts the downloaded tar file and sets the dataset directory to aclImdb. It also sets the train directory to train subdirectory inside the dataset directory. Finally, it removes the unused unsup directory from the train directory to make it easier to load the labeled data.\n",
    "\n",
    "Overall, this code block is preparing the IMDB movie reviews dataset for training a machine learning model to perform sentiment analysis on the reviews."
   ]
  },
  {
   "cell_type": "markdown",
   "id": "99a83b76",
   "metadata": {
    "heading_collapsed": true
   },
   "source": [
    "## Create a Labelled tf.data.Dataset\n",
    "\n",
    "To create a labeled tf.data.Dataset we’ll use the text_dataset_from_directory as shown below. Next, we’ll create a validation set using an 80:20 split of the training data by using the validation_split argument."
   ]
  },
  {
   "cell_type": "code",
   "execution_count": 5,
   "id": "9b308a04",
   "metadata": {
    "ExecuteTime": {
     "end_time": "2023-03-09T19:24:17.413719Z",
     "start_time": "2023-03-09T19:23:51.718458Z"
    },
    "hidden": true
   },
   "outputs": [
    {
     "name": "stdout",
     "output_type": "stream",
     "text": [
      "Found 25000 files belonging to 2 classes.\n",
      "Using 20000 files for training.\n"
     ]
    },
    {
     "name": "stderr",
     "output_type": "stream",
     "text": [
      "2023-03-09 19:24:00.040833: I tensorflow/core/platform/cpu_feature_guard.cc:151] This TensorFlow binary is optimized with oneAPI Deep Neural Network Library (oneDNN) to use the following CPU instructions in performance-critical operations:  AVX2 FMA\n",
      "To enable them in other operations, rebuild TensorFlow with the appropriate compiler flags.\n"
     ]
    },
    {
     "name": "stdout",
     "output_type": "stream",
     "text": [
      "Found 25000 files belonging to 2 classes.\n",
      "Using 20000 files for training.\n",
      "Found 25000 files belonging to 2 classes.\n"
     ]
    }
   ],
   "source": [
    "AUTOTUNE = tf.data.AUTOTUNE\n",
    "batch_size = 32\n",
    "seed = 42\n",
    "\n",
    "raw_train_ds = tf.keras.utils.text_dataset_from_directory(\n",
    "    'aclImdb/train', batch_size=batch_size, validation_split=0.2, subset='training', seed=seed)\n",
    "\n",
    "class_names = raw_train_ds.class_names\n",
    "train_ds = raw_train_ds.cache().prefetch(buffer_size=AUTOTUNE)\n",
    "\n",
    "val_ds = tf.keras.utils.text_dataset_from_directory(\n",
    "    'aclImdb/train', batch_size=batch_size, validation_split=0.2, subset='training', seed=seed)\n",
    "\n",
    "val_ds = val_ds.cache().prefetch(buffer_size=AUTOTUNE)\n",
    "\n",
    "test_ds = tf.keras.utils.text_dataset_from_directory(\n",
    "    'aclImdb/test', batch_size=batch_size)\n",
    "\n",
    "test_ds = test_ds.cache().prefetch(buffer_size=AUTOTUNE)"
   ]
  },
  {
   "cell_type": "code",
   "execution_count": 6,
   "id": "4f9d5b64",
   "metadata": {
    "ExecuteTime": {
     "end_time": "2023-03-09T19:35:09.544808Z",
     "start_time": "2023-03-09T19:35:09.420645Z"
    },
    "hidden": true
   },
   "outputs": [
    {
     "name": "stdout",
     "output_type": "stream",
     "text": [
      "Review: b'\"Pandemonium\" is a horror movie spoof that comes off more stupid than funny. Believe me when I tell you, I love comedies. Especially comedy spoofs. \"Airplane\", \"The Naked Gun\" trilogy, \"Blazing Saddles\", \"High Anxiety\", and \"Spaceballs\" are some of my favorite comedies that spoof a particular genre. \"Pandemonium\" is not up there with those films. Most of the scenes in this movie had me sitting there in stunned silence because the movie wasn\\'t all that funny. There are a few laughs in the film, but when you watch a comedy, you expect to laugh a lot more than a few times and that\\'s all this film has going for it. Geez, \"Scream\" had more laughs than this film and that was more of a horror film. How bizarre is that?<br /><br />*1/2 (out of four)'\n",
      "Label : 0 (neg)\n",
      "Review: b\"David Mamet is a very interesting and a very un-equal director. His first movie 'House of Games' was the one I liked best, and it set a series of films with characters whose perspective of life changes as they get into complicated situations, and so does the perspective of the viewer.<br /><br />So is 'Homicide' which from the title tries to set the mind of the viewer to the usual crime drama. The principal characters are two cops, one Jewish and one Irish who deal with a racially charged area. The murder of an old Jewish shop owner who proves to be an ancient veteran of the Israeli Independence war triggers the Jewish identity in the mind and heart of the Jewish detective.<br /><br />This is were the flaws of the film are the more obvious. The process of awakening is theatrical and hard to believe, the group of Jewish militants is operatic, and the way the detective eventually walks to the final violent confrontation is pathetic. The end of the film itself is Mamet-like smart, but disappoints from a human emotional perspective.<br /><br />Joe Mantegna and William Macy give strong performances, but the flaws of the story are too evident to be easily compensated.\"\n",
      "Label : 0 (neg)\n",
      "Review: b'Great documentary about the lives of NY firefighters during the worst terrorist attack of all time.. That reason alone is why this should be a must see collectors item.. What shocked me was not only the attacks, but the\"High Fat Diet\" and physical appearance of some of these firefighters. I think a lot of Doctors would agree with me that,in the physical shape they were in, some of these firefighters would NOT of made it to the 79th floor carrying over 60 lbs of gear. Having said that i now have a greater respect for firefighters and i realize becoming a firefighter is a life altering job. The French have a history of making great documentary\\'s and that is what this is, a Great Documentary.....'\n",
      "Label : 1 (pos)\n"
     ]
    },
    {
     "name": "stderr",
     "output_type": "stream",
     "text": [
      "2023-03-09 19:35:09.536560: W tensorflow/core/kernels/data/cache_dataset_ops.cc:768] The calling iterator did not fully read the dataset being cached. In order to avoid unexpected truncation of the dataset, the partially cached contents of the dataset  will be discarded. This can happen if you have an input pipeline similar to `dataset.cache().take(k).repeat()`. You should use `dataset.take(k).cache().repeat()` instead.\n"
     ]
    }
   ],
   "source": [
    "for text_batch, label_batch in train_ds.take(1):\n",
    "  for i in range(3):\n",
    "    print(f'Review: {text_batch.numpy()[i]}')\n",
    "    label = label_batch.numpy()[i]\n",
    "    print(f'Label : {label} ({class_names[label]})')"
   ]
  },
  {
   "cell_type": "raw",
   "id": "e00e0006",
   "metadata": {
    "hidden": true
   },
   "source": [
    "It’s important to specify a random seed while using the validation_split so that the validation and training splits have no overlap."
   ]
  },
  {
   "cell_type": "raw",
   "id": "ff3949eb",
   "metadata": {
    "hidden": true
   },
   "source": [
    "This code snippet sets up TensorFlow data pipelines for sentiment analysis using the IMDb dataset. Here's a breakdown of what each line does:\n",
    "\n",
    "AUTOTUNE = tf.data.AUTOTUNE: AUTOTUNE is a constant used to configure the number of elements to prefetch in the data pipeline. Setting it to tf.data.AUTOTUNE allows TensorFlow to automatically tune the number based on available system resources.\n",
    "\n",
    "batch_size = 32: This sets the batch size for the training, validation, and test datasets.\n",
    "\n",
    "seed = 42: This sets the seed for the random number generator used to split the training data into training and validation subsets.\n",
    "\n",
    "raw_train_ds = tf.keras.utils.text_dataset_from_directory('aclImdb/train', batch_size=batch_size, validation_split=0.2, subset='training', seed=seed): This creates a TensorFlow TextDataset object from the training set in the IMDb dataset. It uses the text_dataset_from_directory utility function to read in the dataset from a directory on disk. The validation_split parameter splits the training data into a training subset and a validation subset, with 20% of the data going to the validation set. The subset parameter is set to 'training' to indicate that this dataset contains the training data. The seed parameter sets the random seed for the data shuffling. The resulting TextDataset object is assigned to the raw_train_ds variable.\n",
    "\n",
    "class_names = raw_train_ds.class_names: This extracts the class names from the TextDataset object. In this case, the class names are 'neg' and 'pos' to indicate negative and positive movie reviews.\n",
    "\n",
    "train_ds = raw_train_ds.cache().prefetch(buffer_size=AUTOTUNE): This creates a new TextDataset object by chaining two methods onto the raw_train_ds object. The cache() method caches the dataset in memory, which can speed up training. The prefetch() method preloads a number of batches in memory, which helps to hide I/O latencies while training. The buffer_size parameter is set to AUTOTUNE, which allows TensorFlow to determine an optimal prefetch buffer size based on available system resources.\n",
    "\n",
    "val_ds = tf.keras.utils.text_dataset_from_directory('aclImdb/train', batch_size=batch_size, validation_split=0.2, subset='validation', seed=seed): This creates a TextDataset object from the validation subset of the IMDb training dataset. It is similar to the raw_train_ds object, but the subset parameter is set to 'validation' to indicate that this dataset contains the validation data. The resulting TextDataset object is assigned to the val_ds variable.\n",
    "\n",
    "val_ds = val_ds.cache().prefetch(buffer_size=AUTOTUNE): This is similar to the previous cache() and prefetch() method calls, but it is applied to the val_ds object instead.\n",
    "\n",
    "test_ds = tf.keras.utils.text_dataset_from_directory('aclImdb/test', batch_size=batch_size): This creates a TextDataset object from the test set in the IMDb dataset. It is similar to the raw_train_ds object, but it reads in the test data instead. The resulting TextDataset object is assigned to the test_ds variable.\n",
    "\n",
    "test_ds = test_ds.cache().prefetch(buffer_size=AUTOTUNE): This is similar to the previous cache() and prefetch() method calls, but it is applied to the test_ds object instead."
   ]
  },
  {
   "cell_type": "markdown",
   "id": "9962e374",
   "metadata": {
    "heading_collapsed": true
   },
   "source": [
    "## Choose the BERT Model\n",
    "\n",
    "The next step will be choosing which BERT model you’d like to load and fine-tune from Tensorflow Hub, you can use the hub.KerasLayer to compose your fine-tuned model. Then,  we’ll try the preprocessing model on some text and see the output."
   ]
  },
  {
   "cell_type": "code",
   "execution_count": 7,
   "id": "850f1a42",
   "metadata": {
    "ExecuteTime": {
     "end_time": "2023-03-09T19:39:41.010131Z",
     "start_time": "2023-03-09T19:39:41.004032Z"
    },
    "hidden": true
   },
   "outputs": [],
   "source": [
    "tfhub_handle_preprocess = 'https://tfhub.dev/tensorflow/bert_en_uncased_preprocess/3'"
   ]
  },
  {
   "cell_type": "code",
   "execution_count": 8,
   "id": "3eeb5f7c",
   "metadata": {
    "ExecuteTime": {
     "end_time": "2023-03-09T19:41:29.806130Z",
     "start_time": "2023-03-09T19:41:17.207360Z"
    },
    "hidden": true
   },
   "outputs": [
    {
     "name": "stdout",
     "output_type": "stream",
     "text": [
      "Keys       : ['input_mask', 'input_type_ids', 'input_word_ids']\n",
      "Shape      : (1, 128)\n",
      "Word Ids   : [ 101 2023 2003 2107 2019 6429 3185  999  102    0    0    0]\n",
      "Input Mask : [1 1 1 1 1 1 1 1 1 0 0 0]\n",
      "Type Ids   : [0 0 0 0 0 0 0 0 0 0 0 0]\n"
     ]
    }
   ],
   "source": [
    "bert_preprocess_model = hub.KerasLayer(tfhub_handle_preprocess)\n",
    "\n",
    "text_test = ['this is such an amazing movie!']\n",
    "text_preprocessed = bert_preprocess_model(text_test)\n",
    "\n",
    "print(f'Keys       : {list(text_preprocessed.keys())}')\n",
    "print(f'Shape      : {text_preprocessed[\"input_word_ids\"].shape}')\n",
    "print(f'Word Ids   : {text_preprocessed[\"input_word_ids\"][0, :12]}')\n",
    "print(f'Input Mask : {text_preprocessed[\"input_mask\"][0, :12]}')\n",
    "print(f'Type Ids   : {text_preprocessed[\"input_type_ids\"][0, :12]}')"
   ]
  },
  {
   "cell_type": "raw",
   "id": "a5c49581",
   "metadata": {
    "hidden": true
   },
   "source": [
    "The code snippet you provided is used to preprocess text data for BERT. Here's what it does:\n",
    "\n",
    "The first line loads the pre-trained BERT model for text preprocessing. The hub.KerasLayer function is used to wrap the BERT model as a Keras layer, which can then be used to preprocess text data.\n",
    "\n",
    "The second line defines a list of text samples to be preprocessed.\n",
    "\n",
    "The third line applies the BERT preprocessing layer to the text samples. The result is a dictionary of preprocessed text data with keys \"input_word_ids\", \"input_mask\", and \"input_type_ids\". These keys correspond to the three inputs expected by the BERT model.\n",
    "\n",
    "The remaining lines print some information about the preprocessed text data. The \"input_word_ids\" key contains the tokenized text, \"input_mask\" is a binary mask indicating which tokens are part of the input and which are padding tokens, and \"input_type_ids\" distinguishes between the different sentences in the input.\n",
    "\n",
    "Assuming that the tfhub_handle_preprocess variable has been defined and points to a valid BERT model, this code should work as expected."
   ]
  },
  {
   "cell_type": "markdown",
   "id": "91be9b65",
   "metadata": {
    "heading_collapsed": true
   },
   "source": [
    "## Using the BERT model\n",
    "\n",
    "Before putting BERT into your own model, let's take a look at its outputs. You will load it from TF Hub and see the returned values."
   ]
  },
  {
   "cell_type": "code",
   "execution_count": 10,
   "id": "ce4e5c7c",
   "metadata": {
    "ExecuteTime": {
     "end_time": "2023-03-09T19:46:13.985421Z",
     "start_time": "2023-03-09T19:46:13.958684Z"
    },
    "hidden": true
   },
   "outputs": [
    {
     "name": "stdout",
     "output_type": "stream",
     "text": [
      "BERT model selected           : https://tfhub.dev/tensorflow/small_bert/bert_en_uncased_L-2_H-128_A-2/1\n",
      "Preprocess model auto-selected: https://tfhub.dev/tensorflow/bert_en_uncased_preprocess/3\n"
     ]
    }
   ],
   "source": [
    "#@title Choose a BERT model to fine-tune\n",
    "\n",
    "bert_model_name = 'small_bert/bert_en_uncased_L-2_H-128_A-2'  #@param [\"bert_en_uncased_L-12_H-768_A-12\", \"bert_en_cased_L-12_H-768_A-12\", \"bert_multi_cased_L-12_H-768_A-12\", \"small_bert/bert_en_uncased_L-2_H-128_A-2\", \"small_bert/bert_en_uncased_L-2_H-256_A-4\", \"small_bert/bert_en_uncased_L-2_H-512_A-8\", \"small_bert/bert_en_uncased_L-2_H-768_A-12\", \"small_bert/bert_en_uncased_L-4_H-128_A-2\", \"small_bert/bert_en_uncased_L-4_H-256_A-4\", \"small_bert/bert_en_uncased_L-4_H-512_A-8\", \"small_bert/bert_en_uncased_L-4_H-768_A-12\", \"small_bert/bert_en_uncased_L-6_H-128_A-2\", \"small_bert/bert_en_uncased_L-6_H-256_A-4\", \"small_bert/bert_en_uncased_L-6_H-512_A-8\", \"small_bert/bert_en_uncased_L-6_H-768_A-12\", \"small_bert/bert_en_uncased_L-8_H-128_A-2\", \"small_bert/bert_en_uncased_L-8_H-256_A-4\", \"small_bert/bert_en_uncased_L-8_H-512_A-8\", \"small_bert/bert_en_uncased_L-8_H-768_A-12\", \"small_bert/bert_en_uncased_L-10_H-128_A-2\", \"small_bert/bert_en_uncased_L-10_H-256_A-4\", \"small_bert/bert_en_uncased_L-10_H-512_A-8\", \"small_bert/bert_en_uncased_L-10_H-768_A-12\", \"small_bert/bert_en_uncased_L-12_H-128_A-2\", \"small_bert/bert_en_uncased_L-12_H-256_A-4\", \"small_bert/bert_en_uncased_L-12_H-512_A-8\", \"small_bert/bert_en_uncased_L-12_H-768_A-12\", \"albert_en_base\", \"electra_small\", \"electra_base\", \"experts_pubmed\", \"experts_wiki_books\", \"talking-heads_base\"]\n",
    "\n",
    "map_name_to_handle = {\n",
    "    'bert_en_uncased_L-12_H-768_A-12':\n",
    "        'https://tfhub.dev/tensorflow/bert_en_uncased_L-12_H-768_A-12/3',\n",
    "    'bert_en_cased_L-12_H-768_A-12':\n",
    "        'https://tfhub.dev/tensorflow/bert_en_cased_L-12_H-768_A-12/3',\n",
    "    'bert_multi_cased_L-12_H-768_A-12':\n",
    "        'https://tfhub.dev/tensorflow/bert_multi_cased_L-12_H-768_A-12/3',\n",
    "    'small_bert/bert_en_uncased_L-2_H-128_A-2':\n",
    "        'https://tfhub.dev/tensorflow/small_bert/bert_en_uncased_L-2_H-128_A-2/1',\n",
    "    'small_bert/bert_en_uncased_L-2_H-256_A-4':\n",
    "        'https://tfhub.dev/tensorflow/small_bert/bert_en_uncased_L-2_H-256_A-4/1',\n",
    "    'small_bert/bert_en_uncased_L-2_H-512_A-8':\n",
    "        'https://tfhub.dev/tensorflow/small_bert/bert_en_uncased_L-2_H-512_A-8/1',\n",
    "    'small_bert/bert_en_uncased_L-2_H-768_A-12':\n",
    "        'https://tfhub.dev/tensorflow/small_bert/bert_en_uncased_L-2_H-768_A-12/1',\n",
    "    'small_bert/bert_en_uncased_L-4_H-128_A-2':\n",
    "        'https://tfhub.dev/tensorflow/small_bert/bert_en_uncased_L-4_H-128_A-2/1',\n",
    "    'small_bert/bert_en_uncased_L-4_H-256_A-4':\n",
    "        'https://tfhub.dev/tensorflow/small_bert/bert_en_uncased_L-4_H-256_A-4/1',\n",
    "    'small_bert/bert_en_uncased_L-4_H-512_A-8':\n",
    "        'https://tfhub.dev/tensorflow/small_bert/bert_en_uncased_L-4_H-512_A-8/1',\n",
    "    'small_bert/bert_en_uncased_L-4_H-768_A-12':\n",
    "        'https://tfhub.dev/tensorflow/small_bert/bert_en_uncased_L-4_H-768_A-12/1',\n",
    "    'small_bert/bert_en_uncased_L-6_H-128_A-2':\n",
    "        'https://tfhub.dev/tensorflow/small_bert/bert_en_uncased_L-6_H-128_A-2/1',\n",
    "    'small_bert/bert_en_uncased_L-6_H-256_A-4':\n",
    "        'https://tfhub.dev/tensorflow/small_bert/bert_en_uncased_L-6_H-256_A-4/1',\n",
    "    'small_bert/bert_en_uncased_L-6_H-512_A-8':\n",
    "        'https://tfhub.dev/tensorflow/small_bert/bert_en_uncased_L-6_H-512_A-8/1',\n",
    "    'small_bert/bert_en_uncased_L-6_H-768_A-12':\n",
    "        'https://tfhub.dev/tensorflow/small_bert/bert_en_uncased_L-6_H-768_A-12/1',\n",
    "    'small_bert/bert_en_uncased_L-8_H-128_A-2':\n",
    "        'https://tfhub.dev/tensorflow/small_bert/bert_en_uncased_L-8_H-128_A-2/1',\n",
    "    'small_bert/bert_en_uncased_L-8_H-256_A-4':\n",
    "        'https://tfhub.dev/tensorflow/small_bert/bert_en_uncased_L-8_H-256_A-4/1',\n",
    "    'small_bert/bert_en_uncased_L-8_H-512_A-8':\n",
    "        'https://tfhub.dev/tensorflow/small_bert/bert_en_uncased_L-8_H-512_A-8/1',\n",
    "    'small_bert/bert_en_uncased_L-8_H-768_A-12':\n",
    "        'https://tfhub.dev/tensorflow/small_bert/bert_en_uncased_L-8_H-768_A-12/1',\n",
    "    'small_bert/bert_en_uncased_L-10_H-128_A-2':\n",
    "        'https://tfhub.dev/tensorflow/small_bert/bert_en_uncased_L-10_H-128_A-2/1',\n",
    "    'small_bert/bert_en_uncased_L-10_H-256_A-4':\n",
    "        'https://tfhub.dev/tensorflow/small_bert/bert_en_uncased_L-10_H-256_A-4/1',\n",
    "    'small_bert/bert_en_uncased_L-10_H-512_A-8':\n",
    "        'https://tfhub.dev/tensorflow/small_bert/bert_en_uncased_L-10_H-512_A-8/1',\n",
    "    'small_bert/bert_en_uncased_L-10_H-768_A-12':\n",
    "        'https://tfhub.dev/tensorflow/small_bert/bert_en_uncased_L-10_H-768_A-12/1',\n",
    "    'small_bert/bert_en_uncased_L-12_H-128_A-2':\n",
    "        'https://tfhub.dev/tensorflow/small_bert/bert_en_uncased_L-12_H-128_A-2/1',\n",
    "    'small_bert/bert_en_uncased_L-12_H-256_A-4':\n",
    "        'https://tfhub.dev/tensorflow/small_bert/bert_en_uncased_L-12_H-256_A-4/1',\n",
    "    'small_bert/bert_en_uncased_L-12_H-512_A-8':\n",
    "        'https://tfhub.dev/tensorflow/small_bert/bert_en_uncased_L-12_H-512_A-8/1',\n",
    "    'small_bert/bert_en_uncased_L-12_H-768_A-12':\n",
    "        'https://tfhub.dev/tensorflow/small_bert/bert_en_uncased_L-12_H-768_A-12/1',\n",
    "    'albert_en_base':\n",
    "        'https://tfhub.dev/tensorflow/albert_en_base/2',\n",
    "    'electra_small':\n",
    "        'https://tfhub.dev/google/electra_small/2',\n",
    "    'electra_base':\n",
    "        'https://tfhub.dev/google/electra_base/2',\n",
    "    'experts_pubmed':\n",
    "        'https://tfhub.dev/google/experts/bert/pubmed/2',\n",
    "    'experts_wiki_books':\n",
    "        'https://tfhub.dev/google/experts/bert/wiki_books/2',\n",
    "    'talking-heads_base':\n",
    "        'https://tfhub.dev/tensorflow/talkheads_ggelu_bert_en_base/1',\n",
    "}\n",
    "\n",
    "map_model_to_preprocess = {\n",
    "    'bert_en_uncased_L-12_H-768_A-12':\n",
    "        'https://tfhub.dev/tensorflow/bert_en_uncased_preprocess/3',\n",
    "    'bert_en_cased_L-12_H-768_A-12':\n",
    "        'https://tfhub.dev/tensorflow/bert_en_cased_preprocess/3',\n",
    "    'small_bert/bert_en_uncased_L-2_H-128_A-2':\n",
    "        'https://tfhub.dev/tensorflow/bert_en_uncased_preprocess/3',\n",
    "    'small_bert/bert_en_uncased_L-2_H-256_A-4':\n",
    "        'https://tfhub.dev/tensorflow/bert_en_uncased_preprocess/3',\n",
    "    'small_bert/bert_en_uncased_L-2_H-512_A-8':\n",
    "        'https://tfhub.dev/tensorflow/bert_en_uncased_preprocess/3',\n",
    "    'small_bert/bert_en_uncased_L-2_H-768_A-12':\n",
    "        'https://tfhub.dev/tensorflow/bert_en_uncased_preprocess/3',\n",
    "    'small_bert/bert_en_uncased_L-4_H-128_A-2':\n",
    "        'https://tfhub.dev/tensorflow/bert_en_uncased_preprocess/3',\n",
    "    'small_bert/bert_en_uncased_L-4_H-256_A-4':\n",
    "        'https://tfhub.dev/tensorflow/bert_en_uncased_preprocess/3',\n",
    "    'small_bert/bert_en_uncased_L-4_H-512_A-8':\n",
    "        'https://tfhub.dev/tensorflow/bert_en_uncased_preprocess/3',\n",
    "    'small_bert/bert_en_uncased_L-4_H-768_A-12':\n",
    "        'https://tfhub.dev/tensorflow/bert_en_uncased_preprocess/3',\n",
    "    'small_bert/bert_en_uncased_L-6_H-128_A-2':\n",
    "        'https://tfhub.dev/tensorflow/bert_en_uncased_preprocess/3',\n",
    "    'small_bert/bert_en_uncased_L-6_H-256_A-4':\n",
    "        'https://tfhub.dev/tensorflow/bert_en_uncased_preprocess/3',\n",
    "    'small_bert/bert_en_uncased_L-6_H-512_A-8':\n",
    "        'https://tfhub.dev/tensorflow/bert_en_uncased_preprocess/3',\n",
    "    'small_bert/bert_en_uncased_L-6_H-768_A-12':\n",
    "        'https://tfhub.dev/tensorflow/bert_en_uncased_preprocess/3',\n",
    "    'small_bert/bert_en_uncased_L-8_H-128_A-2':\n",
    "        'https://tfhub.dev/tensorflow/bert_en_uncased_preprocess/3',\n",
    "    'small_bert/bert_en_uncased_L-8_H-256_A-4':\n",
    "        'https://tfhub.dev/tensorflow/bert_en_uncased_preprocess/3',\n",
    "    'small_bert/bert_en_uncased_L-8_H-512_A-8':\n",
    "        'https://tfhub.dev/tensorflow/bert_en_uncased_preprocess/3',\n",
    "    'small_bert/bert_en_uncased_L-8_H-768_A-12':\n",
    "        'https://tfhub.dev/tensorflow/bert_en_uncased_preprocess/3',\n",
    "    'small_bert/bert_en_uncased_L-10_H-128_A-2':\n",
    "        'https://tfhub.dev/tensorflow/bert_en_uncased_preprocess/3',\n",
    "    'small_bert/bert_en_uncased_L-10_H-256_A-4':\n",
    "        'https://tfhub.dev/tensorflow/bert_en_uncased_preprocess/3',\n",
    "    'small_bert/bert_en_uncased_L-10_H-512_A-8':\n",
    "        'https://tfhub.dev/tensorflow/bert_en_uncased_preprocess/3',\n",
    "    'small_bert/bert_en_uncased_L-10_H-768_A-12':\n",
    "        'https://tfhub.dev/tensorflow/bert_en_uncased_preprocess/3',\n",
    "    'small_bert/bert_en_uncased_L-12_H-128_A-2':\n",
    "        'https://tfhub.dev/tensorflow/bert_en_uncased_preprocess/3',\n",
    "    'small_bert/bert_en_uncased_L-12_H-256_A-4':\n",
    "        'https://tfhub.dev/tensorflow/bert_en_uncased_preprocess/3',\n",
    "    'small_bert/bert_en_uncased_L-12_H-512_A-8':\n",
    "        'https://tfhub.dev/tensorflow/bert_en_uncased_preprocess/3',\n",
    "    'small_bert/bert_en_uncased_L-12_H-768_A-12':\n",
    "        'https://tfhub.dev/tensorflow/bert_en_uncased_preprocess/3',\n",
    "    'bert_multi_cased_L-12_H-768_A-12':\n",
    "        'https://tfhub.dev/tensorflow/bert_multi_cased_preprocess/3',\n",
    "    'albert_en_base':\n",
    "        'https://tfhub.dev/tensorflow/albert_en_preprocess/3',\n",
    "    'electra_small':\n",
    "        'https://tfhub.dev/tensorflow/bert_en_uncased_preprocess/3',\n",
    "    'electra_base':\n",
    "        'https://tfhub.dev/tensorflow/bert_en_uncased_preprocess/3',\n",
    "    'experts_pubmed':\n",
    "        'https://tfhub.dev/tensorflow/bert_en_uncased_preprocess/3',\n",
    "    'experts_wiki_books':\n",
    "        'https://tfhub.dev/tensorflow/bert_en_uncased_preprocess/3',\n",
    "    'talking-heads_base':\n",
    "        'https://tfhub.dev/tensorflow/bert_en_uncased_preprocess/3',\n",
    "}\n",
    "\n",
    "tfhub_handle_encoder = map_name_to_handle[bert_model_name]\n",
    "tfhub_handle_preprocess = map_model_to_preprocess[bert_model_name]\n",
    "\n",
    "print(f'BERT model selected           : {tfhub_handle_encoder}')\n",
    "print(f'Preprocess model auto-selected: {tfhub_handle_preprocess}')"
   ]
  },
  {
   "cell_type": "code",
   "execution_count": 11,
   "id": "960491bc",
   "metadata": {
    "ExecuteTime": {
     "end_time": "2023-03-09T19:46:56.715050Z",
     "start_time": "2023-03-09T19:46:25.395576Z"
    },
    "hidden": true
   },
   "outputs": [],
   "source": [
    "bert_model = hub.KerasLayer(tfhub_handle_encoder)"
   ]
  },
  {
   "cell_type": "markdown",
   "id": "131101e5",
   "metadata": {
    "heading_collapsed": true
   },
   "source": [
    "## Build Models\n",
    "\n",
    "Next, you will build a simple model composed of the preprocessing model, the BERT model that you selected in the previous steps, a dense layer, and a Dropout layer."
   ]
  },
  {
   "cell_type": "code",
   "execution_count": 12,
   "id": "c31a5985",
   "metadata": {
    "ExecuteTime": {
     "end_time": "2023-03-09T19:49:35.289878Z",
     "start_time": "2023-03-09T19:49:35.279077Z"
    },
    "hidden": true
   },
   "outputs": [],
   "source": [
    "def build_classifier_model():\n",
    "    text_input = tf.keras.layers.Input(shape=(), dtype=tf.string, name='text')\n",
    "    preprocessing_layer = hub.KerasLayer(tfhub_handle_preprocess, name='preprocessing')\n",
    "    encoder = hub.KerasLayer(tfhub_handle_encoder, trainable=True, name='BERT_encoder')\n",
    "    encoder_inputs = preprocessing_layer(text_input)\n",
    "    outputs = encoder(encoder_inputs)\n",
    "    net = outputs['pooled_output']\n",
    "    net = tf.keras.layers.Dropout(0.1)(net)\n",
    "    net = tf.keras.layers.Dense(1, activation=None, name='classifier')(net)\n",
    "    return tf.keras.Model(text_input, net)\n"
   ]
  },
  {
   "cell_type": "raw",
   "id": "bd16aa97",
   "metadata": {
    "hidden": true
   },
   "source": [
    "This is a function that builds a BERT-based text classification model using TensorFlow 2 and TensorFlow Hub. Here's what it does:\n",
    "\n",
    "The first line defines a function build_classifier_model with no arguments.\n",
    "\n",
    "The second line defines an input layer for the text input. The shape argument is set to () because the input is a scalar string.\n",
    "\n",
    "The third line defines a preprocessing layer that uses a pre-trained BERT model to preprocess the text. The tfhub_handle_preprocess variable is used to specify the handle of the pre-trained BERT model.\n",
    "\n",
    "The fourth line defines an encoder layer that uses a pre-trained BERT model to encode the preprocessed text. The tfhub_handle_encoder variable is used to specify the handle of the pre-trained BERT model.\n",
    "\n",
    "The fifth line applies the BERT encoder to the preprocessed text to obtain the encoded outputs. The outputs variable is a dictionary that contains two keys, \"sequence_output\" and \"pooled_output\", which correspond to the outputs of the BERT model.\n",
    "\n",
    "The sixth line applies a dropout layer to the pooled output to prevent overfitting.\n",
    "The seventh line applies a dense layer with a single output and no activation function to obtain the final classification output.\n",
    "\n",
    "The last line returns a Keras model that takes the text input as input and outputs the classification output.\n",
    "\n",
    "Note that tfhub_handle_preprocess and tfhub_handle_encoder are assumed to be defined earlier in the code and contain the handles or URLs of the pre-trained BERT models used for text preprocessing and encoding, respectively. Also, this code assumes that you have imported the necessary libraries for TensorFlow 2, TensorFlow Hub, and BERT."
   ]
  },
  {
   "cell_type": "markdown",
   "id": "7c118697",
   "metadata": {
    "heading_collapsed": true
   },
   "source": [
    "## Check the Model\n",
    "\n",
    "Now, you can check if your model runs with the output of the preprocessing model."
   ]
  },
  {
   "cell_type": "code",
   "execution_count": 13,
   "id": "20634cee",
   "metadata": {
    "ExecuteTime": {
     "end_time": "2023-03-09T19:51:58.386797Z",
     "start_time": "2023-03-09T19:51:20.537251Z"
    },
    "hidden": true
   },
   "outputs": [
    {
     "name": "stdout",
     "output_type": "stream",
     "text": [
      "tf.Tensor([[0.33472434]], shape=(1, 1), dtype=float32)\n"
     ]
    }
   ],
   "source": [
    "# tfhub_handle_encoder = \"https://tfhub.dev/tensorflow/bert_en_uncased_L-12_H-768_A-12/4\"\n",
    "\n",
    "classifier_model = build_classifier_model()\n",
    "bert_raw_result = classifier_model(tf.constant(text_test))\n",
    "print(tf.sigmoid(bert_raw_result))"
   ]
  },
  {
   "cell_type": "code",
   "execution_count": 14,
   "id": "0405d78b",
   "metadata": {
    "ExecuteTime": {
     "end_time": "2023-03-09T19:52:18.266643Z",
     "start_time": "2023-03-09T19:52:18.258089Z"
    },
    "hidden": true
   },
   "outputs": [
    {
     "name": "stdout",
     "output_type": "stream",
     "text": [
      "You must install pydot (`pip install pydot`) and install graphviz (see instructions at https://graphviz.gitlab.io/download/) for plot_model/model_to_dot to work.\n"
     ]
    }
   ],
   "source": [
    "tf.keras.utils.plot_model(classifier_model)"
   ]
  },
  {
   "cell_type": "markdown",
   "id": "7bde516a",
   "metadata": {
    "heading_collapsed": true
   },
   "source": [
    "## Loss Function\n",
    "\n",
    "The loss function is a necessary step here, we’ll opt for the losses.BinaryCrossentropy loss function as we are dealing with a binary classification problem."
   ]
  },
  {
   "cell_type": "code",
   "execution_count": 15,
   "id": "7c49ceba",
   "metadata": {
    "ExecuteTime": {
     "end_time": "2023-03-09T19:53:10.630870Z",
     "start_time": "2023-03-09T19:53:10.616726Z"
    },
    "hidden": true
   },
   "outputs": [],
   "source": [
    "loss = tf.keras.losses.BinaryCrossentropy(from_logits=True)\n",
    "metrics = tf.metrics.BinaryAccuracy()"
   ]
  },
  {
   "cell_type": "markdown",
   "id": "cf54ad86",
   "metadata": {
    "heading_collapsed": true
   },
   "source": [
    "## Fine Tuning\n",
    "\n",
    "For fine-tuning, let's use the same optimizer that BERT was originally trained with: the \"Adaptive Moments\" (Adam). This optimizer minimizes the prediction loss and does regularization by weight decay, which is also known as AdamW."
   ]
  },
  {
   "cell_type": "code",
   "execution_count": 17,
   "id": "70c9a2ee",
   "metadata": {
    "ExecuteTime": {
     "end_time": "2023-03-09T19:56:22.895885Z",
     "start_time": "2023-03-09T19:56:22.882031Z"
    },
    "hidden": true
   },
   "outputs": [],
   "source": [
    "epochs = 5\n",
    "steps_per_epoch = tf.data.experimental.cardinality(train_ds).numpy()\n",
    "num_train_steps = steps_per_epoch * epochs\n",
    "num_warmup_steps = int(0.1*num_train_steps)\n",
    "\n",
    "init_lr = 3e-5\n",
    "optimizer = optimization.create_optimizer(init_lr=init_lr,\n",
    "                                          num_train_steps=num_train_steps,\n",
    "                                          num_warmup_steps=num_warmup_steps,\n",
    "                                          optimizer_type='adamw')"
   ]
  },
  {
   "cell_type": "markdown",
   "id": "042ca88c",
   "metadata": {},
   "source": [
    "## Compile the Model\n",
    "\n",
    "Using the classifier_model you created earlier, you can compile the model with the loss, metric, and optimizer."
   ]
  },
  {
   "cell_type": "code",
   "execution_count": 18,
   "id": "af16a328",
   "metadata": {
    "ExecuteTime": {
     "end_time": "2023-03-09T19:57:12.423453Z",
     "start_time": "2023-03-09T19:57:12.403534Z"
    }
   },
   "outputs": [],
   "source": [
    "classifier_model.compile(optimizer=optimizer,\n",
    "                        loss=loss,\n",
    "                        metrics=metrics)"
   ]
  },
  {
   "cell_type": "raw",
   "id": "66b35342",
   "metadata": {},
   "source": [
    "Note: training time will vary depending on the complexity of the BERT model you have selected."
   ]
  },
  {
   "cell_type": "code",
   "execution_count": 19,
   "id": "43617f5c",
   "metadata": {
    "ExecuteTime": {
     "end_time": "2023-03-09T21:05:46.216324Z",
     "start_time": "2023-03-09T19:59:01.183050Z"
    }
   },
   "outputs": [
    {
     "name": "stdout",
     "output_type": "stream",
     "text": [
      "Training model with https://tfhub.dev/tensorflow/small_bert/bert_en_uncased_L-2_H-128_A-2/1\n",
      "Epoch 1/5\n",
      "625/625 [==============================] - 1131s 2s/step - loss: 0.6508 - binary_accuracy: 0.5972 - val_loss: 0.4974 - val_binary_accuracy: 0.7442\n",
      "Epoch 2/5\n",
      "625/625 [==============================] - 1023s 2s/step - loss: 0.4854 - binary_accuracy: 0.7596 - val_loss: 0.4204 - val_binary_accuracy: 0.8148\n",
      "Epoch 3/5\n",
      "625/625 [==============================] - 728s 1s/step - loss: 0.4406 - binary_accuracy: 0.7907 - val_loss: 0.3849 - val_binary_accuracy: 0.8281\n",
      "Epoch 4/5\n",
      "625/625 [==============================] - 611s 977ms/step - loss: 0.4134 - binary_accuracy: 0.8070 - val_loss: 0.3687 - val_binary_accuracy: 0.8354\n",
      "Epoch 5/5\n",
      "625/625 [==============================] - 512s 819ms/step - loss: 0.3975 - binary_accuracy: 0.8166 - val_loss: 0.3653 - val_binary_accuracy: 0.8325\n"
     ]
    }
   ],
   "source": [
    "print(f'Training model with {tfhub_handle_encoder}')\n",
    "history = classifier_model.fit(x=train_ds,\n",
    "                              validation_data=val_ds,\n",
    "                              epochs=epochs)"
   ]
  },
  {
   "cell_type": "markdown",
   "id": "31b8f4ce",
   "metadata": {},
   "source": [
    "## Evaluate the model\n",
    "\n",
    "Let's see how the model performs. Two values will be returned. Loss (a number which represents the error, lower values are better), and accuracy."
   ]
  },
  {
   "cell_type": "code",
   "execution_count": 20,
   "id": "da6b0f18",
   "metadata": {
    "ExecuteTime": {
     "end_time": "2023-03-10T02:39:28.656019Z",
     "start_time": "2023-03-10T02:35:26.900722Z"
    }
   },
   "outputs": [
    {
     "name": "stdout",
     "output_type": "stream",
     "text": [
      "782/782 [==============================] - 242s 309ms/step - loss: 0.4265 - binary_accuracy: 0.7984\n",
      "Loss: 0.42654508352279663\n",
      "Accuracy: 0.7984399795532227\n"
     ]
    }
   ],
   "source": [
    "loss, accuracy = classifier_model.evaluate(test_ds)\n",
    "\n",
    "print(f'Loss: {loss}')\n",
    "print(f'Accuracy: {accuracy}')"
   ]
  },
  {
   "cell_type": "markdown",
   "id": "28fb70fb",
   "metadata": {},
   "source": [
    "## Plot the accuracy and loss over time\n",
    "\n",
    "Based on the `History` object returned by `model.fit()`. You can plot the training and validation loss for comparison, as well as the training and validation accuracy:"
   ]
  },
  {
   "cell_type": "code",
   "execution_count": 24,
   "id": "3022abfe",
   "metadata": {
    "ExecuteTime": {
     "end_time": "2023-03-10T02:45:30.438930Z",
     "start_time": "2023-03-10T02:45:29.381245Z"
    }
   },
   "outputs": [
    {
     "name": "stdout",
     "output_type": "stream",
     "text": [
      "dict_keys(['loss', 'binary_accuracy', 'val_loss', 'val_binary_accuracy'])\n"
     ]
    },
    {
     "data": {
      "text/plain": [
       "<matplotlib.legend.Legend at 0x7f9df3b57fd0>"
      ]
     },
     "execution_count": 24,
     "metadata": {},
     "output_type": "execute_result"
    },
    {
     "data": {
      "image/png": "[encoded data removed]",
      "text/plain": [
       "<Figure size 720x432 with 2 Axes>"
      ]
     },
     "metadata": {
      "needs_background": "light"
     },
     "output_type": "display_data"
    }
   ],
   "source": [
    "history_dict = history.history\n",
    "print(history_dict.keys())\n",
    "\n",
    "acc = history_dict['binary_accuracy']\n",
    "val_acc = history_dict['val_binary_accuracy']\n",
    "loss = history_dict['loss']\n",
    "val_loss = history_dict['val_loss']\n",
    "\n",
    "epochs = range(1, len(acc) + 1)\n",
    "fig = plt.figure(figsize=(10, 6))\n",
    "fig.tight_layout()\n",
    "\n",
    "plt.subplot(2, 1, 1)\n",
    "# r is for \"solid red line\"\n",
    "\n",
    "plt.plot(epochs, loss, 'r', label='Training loss')\n",
    "# b is for \"solid blue line\"\n",
    "\n",
    "plt.plot(epochs, val_loss, 'b', label='Validation loss')\n",
    "plt.title('Training and validation loss')\n",
    "# plt.xlabel('Epochs')\n",
    "\n",
    "plt.ylabel('Loss')\n",
    "plt.legend()\n",
    "\n",
    "plt.subplot(2, 1, 2)\n",
    "plt.plot(epochs, acc, 'r', label='Training acc')\n",
    "plt.plot(epochs, val_acc, 'b', label='Validation acc')\n",
    "plt.title('Training and validation accuracy')\n",
    "plt.xlabel('Epochs')\n",
    "plt.ylabel('Accuracy')\n",
    "plt.legend(loc='lower right')"
   ]
  },
  {
   "cell_type": "raw",
   "id": "0d3ee218",
   "metadata": {},
   "source": [
    "In this plot, the red lines represent the training loss and accuracy, and the blue lines are the validation loss and accuracy."
   ]
  },
  {
   "cell_type": "markdown",
   "id": "286324fd",
   "metadata": {
    "ExecuteTime": {
     "end_time": "2023-03-09T21:05:46.475577Z",
     "start_time": "2023-03-09T21:05:46.475551Z"
    }
   },
   "source": [
    "## Export for inference\n",
    "\n",
    "Now you just save your fine-tuned model for later use."
   ]
  },
  {
   "cell_type": "code",
   "execution_count": 25,
   "id": "b4ad5e56",
   "metadata": {
    "ExecuteTime": {
     "end_time": "2023-03-10T02:46:02.416540Z",
     "start_time": "2023-03-10T02:45:38.965470Z"
    }
   },
   "outputs": [
    {
     "name": "stderr",
     "output_type": "stream",
     "text": [
      "2023-03-10 02:45:43.836538: W tensorflow/python/util/util.cc:368] Sets are not currently considered sequences, but this may change in the future, so consider avoiding using them.\n",
      "WARNING:absl:Found untraced functions such as restored_function_body, restored_function_body, restored_function_body, restored_function_body, restored_function_body while saving (showing 5 of 64). These functions will not be directly callable after loading.\n"
     ]
    }
   ],
   "source": [
    "dataset_name = 'imdb'\n",
    "saved_model_path = './{}_bert'.format(dataset_name.replace('/', '_'))\n",
    "\n",
    "classifier_model.save(saved_model_path, include_optimizer=False)"
   ]
  },
  {
   "cell_type": "raw",
   "id": "ee193678",
   "metadata": {},
   "source": [
    "Let's reload the model, so you can try it side by side with the model that is still in memory."
   ]
  },
  {
   "cell_type": "code",
   "execution_count": null,
   "id": "d8dc5aec",
   "metadata": {
    "ExecuteTime": {
     "start_time": "2023-03-10T02:46:11.267Z"
    }
   },
   "outputs": [],
   "source": [
    "reloaded_model = tf.saved_model.load(saved_model_path)"
   ]
  },
  {
   "cell_type": "raw",
   "id": "2b21b123",
   "metadata": {},
   "source": [
    "Here you can test your model on any sentence you want, just add to the examples variable below."
   ]
  },
  {
   "cell_type": "code",
   "execution_count": null,
   "id": "938b14d1",
   "metadata": {},
   "outputs": [],
   "source": [
    "def print_my_examples(inputs, results):\n",
    "  result_for_printing = \\\n",
    "    [f'input: {inputs[i]:<30} : score: {results[i][0]:.6f}'\n",
    "                         for i in range(len(inputs))]\n",
    "  print(*result_for_printing, sep='\\n')\n",
    "  print()\n",
    "\n",
    "\n",
    "examples = [\n",
    "    'this is such an amazing movie!',  # this is the same sentence tried earlier\n",
    "    'The movie was great!',\n",
    "    'The movie was meh.',\n",
    "    'The movie was okish.',\n",
    "    'The movie was terrible...'\n",
    "]\n",
    "\n",
    "reloaded_results = tf.sigmoid(reloaded_model(tf.constant(examples)))\n",
    "original_results = tf.sigmoid(classifier_model(tf.constant(examples)))\n",
    "\n",
    "print('Results from the saved model:')\n",
    "print_my_examples(examples, reloaded_results)\n",
    "print('Results from the model in memory:')\n",
    "print_my_examples(examples, original_results)"
   ]
  },
  {
   "cell_type": "raw",
   "id": "024edce2",
   "metadata": {},
   "source": [
    "If you want to use your model on [TF Serving](https://www.tensorflow.org/tfx/guide/serving), remember that it will call your SavedModel through one of its named signatures. In Python, you can test them as follows:"
   ]
  },
  {
   "cell_type": "code",
   "execution_count": null,
   "id": "61525f08",
   "metadata": {},
   "outputs": [],
   "source": [
    "serving_results = reloaded_model \\\n",
    "            .signatures['serving_default'](tf.constant(examples))\n",
    "\n",
    "serving_results = tf.sigmoid(serving_results['classifier'])\n",
    "\n",
    "print_my_examples(examples, serving_results)"
   ]
  }
 ],
 "metadata": {
  "kernelspec": {
   "display_name": "Python 3 (ipykernel)",
   "language": "python",
   "name": "python3"
  },
  "language_info": {
   "codemirror_mode": {
    "name": "ipython",
    "version": 3
   },
   "file_extension": ".py",
   "mimetype": "text/x-python",
   "name": "python",
   "nbconvert_exporter": "python",
   "pygments_lexer": "ipython3",
   "version": "3.9.12"
  },
  "latex_envs": {
   "LaTeX_envs_menu_present": true,
   "autoclose": false,
   "autocomplete": true,
   "bibliofile": "biblio.bib",
   "cite_by": "apalike",
   "current_citInitial": 1,
   "eqLabelWithNumbers": true,
   "eqNumInitial": 1,
   "hotkeys": {
    "equation": "Ctrl-E",
    "itemize": "Ctrl-I"
   },
   "labels_anchors": false,
   "latex_user_defs": false,
   "report_style_numbering": false,
   "user_envs_cfg": false
  },
  "toc": {
   "base_numbering": 1,
   "nav_menu": {},
   "number_sections": true,
   "sideBar": true,
   "skip_h1_title": false,
   "title_cell": "Table of Contents",
   "title_sidebar": "Contents",
   "toc_cell": false,
   "toc_position": {},
   "toc_section_display": true,
   "toc_window_display": false
  }
 },
 "nbformat": 4,
 "nbformat_minor": 5
}
